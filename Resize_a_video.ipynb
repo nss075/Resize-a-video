{
  "nbformat": 4,
  "nbformat_minor": 0,
  "metadata": {
    "colab": {
      "provenance": [],
      "authorship_tag": "ABX9TyMzaLb8NYXcN+2xCWLjLd7P",
      "include_colab_link": true
    },
    "kernelspec": {
      "name": "python3",
      "display_name": "Python 3"
    },
    "language_info": {
      "name": "python"
    }
  },
  "cells": [
    {
      "cell_type": "markdown",
      "metadata": {
        "id": "view-in-github",
        "colab_type": "text"
      },
      "source": [
        "<a href=\"https://colab.research.google.com/github/nss075/Resize-a-video/blob/main/Resize_a_video.ipynb\" target=\"_parent\"><img src=\"https://colab.research.google.com/assets/colab-badge.svg\" alt=\"Open In Colab\"/></a>"
      ]
    },
    {
      "cell_type": "code",
      "execution_count": 1,
      "metadata": {
        "id": "1r1qYvz4GfS6"
      },
      "outputs": [],
      "source": [
        "import cv2\n",
        "\n",
        "# Open the input video file\n",
        "input_file = '/content/sample-5s.mp4'\n",
        "cap = cv2.VideoCapture(input_file)\n",
        "\n",
        "#video's properties\n",
        "fps = cap.get(cv2.CAP_PROP_FPS)\n",
        "width = int(cap.get(cv2.CAP_PROP_FRAME_WIDTH))\n",
        "height = int(cap.get(cv2.CAP_PROP_FRAME_HEIGHT))\n",
        "\n",
        "#  new width and height (50% of original)\n",
        "new_width = int(width / 2)\n",
        "new_height = int(height / 2)\n",
        "\n",
        "# this is done to create an output video meeting the required attributes\n",
        "fourcc = cv2.VideoWriter_fourcc(*'mp4v')\n",
        "output_file = 'output_video.mp4'\n",
        "out = cv2.VideoWriter(output_file, fourcc, fps, (new_width, new_height), True)\n",
        "\n",
        "# Process each frame of the video\n",
        "while cap.isOpened():\n",
        "    ret, frame = cap.read()\n",
        "    if not ret:\n",
        "        break\n",
        "\n",
        "    # Resize the frame\n",
        "    resized_frame = cv2.resize(frame, (new_width, new_height))\n",
        "\n",
        "    # Write the resized frame to the output video\n",
        "    out.write(resized_frame)\n",
        "\n",
        "# Release the video capture and writer\n",
        "cap.release()\n",
        "out.release()\n",
        "\n",
        ""
      ]
    },
    {
      "cell_type": "code",
      "source": [],
      "metadata": {
        "id": "gBIb4wTYG511"
      },
      "execution_count": null,
      "outputs": []
    }
  ]
}